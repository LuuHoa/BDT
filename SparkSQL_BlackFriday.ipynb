{
 "cells": [
  {
   "cell_type": "code",
   "execution_count": 15,
   "metadata": {},
   "outputs": [],
   "source": [
    "from pyspark.sql import HiveContext\n",
    "hive_context = HiveContext(sc)\n"
   ]
  },
  {
   "cell_type": "code",
   "execution_count": 22,
   "metadata": {},
   "outputs": [
    {
     "name": "stdout",
     "output_type": "stream",
     "text": [
      "Count of each gender\n",
      "+------+-----+\n",
      "|Gender|Count|\n",
      "+------+-----+\n",
      "|     F|  124|\n",
      "|     M|  333|\n",
      "+------+-----+\n",
      "\n"
     ]
    }
   ],
   "source": [
    "\n",
    "print \"Count of each gender\"\n",
    "hive_context.sql(\"SELECT  Gender, COUNT(Gender) AS Count FROM user_Sales GROUP BY  Gender\").show()"
   ]
  },
  {
   "cell_type": "code",
   "execution_count": 17,
   "metadata": {},
   "outputs": [
    {
     "name": "stdout",
     "output_type": "stream",
     "text": [
      "Count of Gender and Age \n",
      "+-----+------+---------+\n",
      "|  Age|Gender|age_count|\n",
      "+-----+------+---------+\n",
      "|51-55|     F|        8|\n",
      "|51-55|     M|       23|\n",
      "|26-35|     F|       27|\n",
      "|26-35|     M|       95|\n",
      "|36-45|     F|       21|\n",
      "|36-45|     M|       59|\n",
      "|46-50|     F|       17|\n",
      "|46-50|     M|       27|\n",
      "|  55+|     F|        6|\n",
      "|  55+|     M|       19|\n",
      "|18-25|     F|       26|\n",
      "| 0-17|     F|       10|\n",
      "|18-25|     M|       80|\n",
      "| 0-17|     M|        3|\n",
      "+-----+------+---------+\n",
      "\n"
     ]
    }
   ],
   "source": [
    "print \"Count of Gender and Age \"\n",
    "hive_context.sql(\"SELECT  Age ,Gender, COUNT(Age) AS age_count FROM user_Sales GROUP BY Age, Gender\").show()"
   ]
  },
  {
   "cell_type": "code",
   "execution_count": 18,
   "metadata": {},
   "outputs": [
    {
     "name": "stdout",
     "output_type": "stream",
     "text": [
      "Age range that Spend more money and buy more things\n",
      "+-----+-----------+-------------+\n",
      "|  Age|money_Spend|item_Purchase|\n",
      "+-----+-----------+-------------+\n",
      "|51-55| 1733930.00|           31|\n",
      "|46-50| 2488085.00|           44|\n",
      "| 0-17|  522380.00|           13|\n",
      "|36-45| 4894042.00|           80|\n",
      "|26-35| 9477362.00|          122|\n",
      "|  55+|  949250.00|           25|\n",
      "|18-25| 7031894.00|          106|\n",
      "+-----+-----------+-------------+\n",
      "\n"
     ]
    }
   ],
   "source": [
    "print \"Age range that Spend more money and buy more things\"\n",
    "hive_context.sql(\"SELECT  Age,  ROUND(CAST(SUM(Money_Spend) AS DECIMAL(38,10)),2) AS money_Spend,COUNT(No_Of_Purchase) AS item_Purchase FROM user_Sales GROUP BY Age\").show()"
   ]
  },
  {
   "cell_type": "code",
   "execution_count": 19,
   "metadata": {},
   "outputs": [
    {
     "name": "stdout",
     "output_type": "stream",
     "text": [
      "The Area that a person stay in the city  (A B C) and its reflection on the money they spends  and the things they buy \n",
      "+-------------+-----------+-------------+\n",
      "|City_Category|money_Spend|item_Purchase|\n",
      "+-------------+-----------+-------------+\n",
      "|            A| 7778763.00|          111|\n",
      "|            B|10760687.00|          105|\n",
      "|            C| 8646460.00|          210|\n",
      "+-------------+-----------+-------------+\n",
      "\n"
     ]
    }
   ],
   "source": [
    "print \"The Area that a person stay in the city  (A B C) and its reflection on the money they spends  and the things they buy \"\n",
    "hive_context.sql(\"SELECT  City_Category,   ROUND(CAST(SUM(Money_Spend) AS DECIMAL(38,10)),2)  AS money_Spend , COUNT(No_Of_Purchase) AS item_Purchase  FROM user_Sales GROUP BY City_Category\").show()"
   ]
  },
  {
   "cell_type": "code",
   "execution_count": 20,
   "metadata": {},
   "outputs": [
    {
     "name": "stdout",
     "output_type": "stream",
     "text": [
      "Single vs couple who spends more money and buy more things \n",
      "+--------------+--------------------+-----------+-------------+\n",
      "|Marital_Status|Marital_Status_count|money_Spend|item_Purchase|\n",
      "+--------------+--------------------+-----------+-------------+\n",
      "|             0|                 258|16607498.00|          258|\n",
      "|             1|                 168|10578412.00|          168|\n",
      "+--------------+--------------------+-----------+-------------+\n",
      "\n"
     ]
    }
   ],
   "source": [
    "print \"Single vs couple who spends more money and buy more things \"\n",
    "hive_context.sql(\"SELECT  Marital_Status, COUNT(Marital_Status) AS Marital_Status_count,  ROUND(CAST(SUM(Money_Spend) AS DECIMAL(38,10)),2)  AS money_Spend , COUNT(No_Of_Purchase) AS item_Purchase FROM user_Sales GROUP BY Marital_Status\").show()"
   ]
  },
  {
   "cell_type": "code",
   "execution_count": 21,
   "metadata": {},
   "outputs": [
    {
     "name": "stdout",
     "output_type": "stream",
     "text": [
      "How long does a person stay in the city and its reflection on the money they spends  and the things they buy\n",
      "+--------------------------+-----------+-------------+\n",
      "|Stay_In_Current_City_Years|money_Spend|item_Purchase|\n",
      "+--------------------------+-----------+-------------+\n",
      "|                         0| 4140359.00|           63|\n",
      "|                         1|10318830.00|          157|\n",
      "|                         2| 3860964.00|           71|\n",
      "|                         3| 4747783.00|           70|\n",
      "|                        4+| 4227845.00|           68|\n",
      "+--------------------------+-----------+-------------+\n",
      "\n"
     ]
    }
   ],
   "source": [
    "print \"How long does a person stay in the city and its reflection on the money they spends  and the things they buy\"\n",
    "hive_context.sql(\"SELECT  Stay_In_Current_City_Years,  ROUND(CAST(SUM(Money_Spend) AS DECIMAL(38,10)),2)  AS money_Spend , COUNT(No_Of_Purchase) AS item_Purchase  FROM user_Sales GROUP BY Stay_In_Current_City_Years\").show()"
   ]
  },
  {
   "cell_type": "code",
   "execution_count": null,
   "metadata": {},
   "outputs": [],
   "source": []
  }
 ],
 "metadata": {
  "kernelspec": {
   "display_name": "Python 2",
   "language": "python",
   "name": "python2"
  },
  "language_info": {
   "codemirror_mode": {
    "name": "ipython",
    "version": 2
   },
   "file_extension": ".py",
   "mimetype": "text/x-python",
   "name": "python",
   "nbconvert_exporter": "python",
   "pygments_lexer": "ipython2",
   "version": "2.7.15"
  }
 },
 "nbformat": 4,
 "nbformat_minor": 2
}
